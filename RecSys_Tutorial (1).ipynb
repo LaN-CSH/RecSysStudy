{
  "nbformat": 4,
  "nbformat_minor": 0,
  "metadata": {
    "colab": {
      "provenance": []
    },
    "kernelspec": {
      "name": "python3",
      "display_name": "Python 3"
    },
    "language_info": {
      "name": "python"
    }
  },
  "cells": [
    {
      "cell_type": "markdown",
      "source": [
        "# 추천 시스템 기본적 2가지 추천 방식\n",
        "\n",
        "- 콘텐츠 기반 필터링\n",
        "  - 비슷한 콘텐츠끼리 유사도 계산 (Ex. A는 고양이 영상을 좋아했다. 다른 귀여운 영상도 추천)\n",
        "- 협업 필터링\n",
        "  - 비슷한 이용자끼리 유사도 계산 \n",
        "  (Ex. A는 이 동영상을 좋아했다. B는 A와 성향이 비슷한 유저이기 때문에 B에게도 이 영상을 추천)"
      ],
      "metadata": {
        "id": "l42JCXLx4Jc7"
      }
    },
    {
      "cell_type": "markdown",
      "source": [],
      "metadata": {
        "id": "gTq9g-Wc4ox9"
      }
    },
    {
      "cell_type": "code",
      "execution_count": null,
      "metadata": {
        "id": "R57zl3zd4GBg"
      },
      "outputs": [],
      "source": []
    }
  ]
}